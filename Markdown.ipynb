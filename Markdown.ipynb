{
  "metadata": {
    "language_info": {
      "codemirror_mode": {
        "name": "python",
        "version": 3
      },
      "file_extension": ".py",
      "mimetype": "text/x-python",
      "name": "python",
      "nbconvert_exporter": "python",
      "pygments_lexer": "ipython3",
      "version": "3.8"
    },
    "kernelspec": {
      "name": "python",
      "display_name": "Python (Pyodide)",
      "language": "python"
    }
  },
  "nbformat_minor": 4,
  "nbformat": 4,
  "cells": [
    {
      "cell_type": "markdown",
      "source": "# My Jupiter Notebook on IBM Watson Studio",
      "metadata": {}
    },
    {
      "cell_type": "markdown",
      "source": "**Kieran Singh**\n<p>Data Engineer</p>",
      "metadata": {}
    },
    {
      "cell_type": "markdown",
      "source": "*I am intrested in data science because the idea answering any question you have is facinating. To Test hypothosis, visualise and then convey findings to any audiance is something i want to achive.*\n",
      "metadata": {}
    },
    {
      "cell_type": "markdown",
      "source": "### My Code will print an answer to maths problem\n",
      "metadata": {}
    },
    {
      "cell_type": "code",
      "source": "result = 5 + 4 + 3 + 2 + 1\nprint(result)",
      "metadata": {
        "trusted": true
      },
      "execution_count": 4,
      "outputs": [
        {
          "name": "stdout",
          "text": "15\n",
          "output_type": "stream"
        }
      ]
    },
    {
      "cell_type": "markdown",
      "source": "|Name|Catagory|Website|\n|---|---|---|\n| Google|Search |(https://www.google.co.uk/)|\n| Amazon|Commerce |(https://www.amazon.co.uk/)|\n|Python Library|Repository|(https://docs.python.org/3/library/)\n\n### Catagory Type :\n<ol>\n  <li>Search Engine</li>\n  <li>E-Commerce</li>\n  <li>Repository Library</li>\n    <ol>\n   \n~~Edits Complete~~\n",
      "metadata": {}
    },
    {
      "cell_type": "code",
      "source": "",
      "metadata": {},
      "execution_count": null,
      "outputs": []
    }
  ]
}